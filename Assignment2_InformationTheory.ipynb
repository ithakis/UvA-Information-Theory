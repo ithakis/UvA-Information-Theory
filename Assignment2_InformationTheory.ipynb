{
 "cells": [
  {
   "cell_type": "markdown",
   "id": "60dc2588",
   "metadata": {},
   "source": [
    "# Problem 3b"
   ]
  },
  {
   "cell_type": "code",
   "execution_count": 65,
   "id": "53ca662e",
   "metadata": {},
   "outputs": [
    {
     "name": "stdout",
     "output_type": "stream",
     "text": [
      "8.324078744081222\n",
      "0.013335987261146497\n"
     ]
    }
   ],
   "source": [
    "import math\n",
    "import string\n",
    "import re\n",
    "\n",
    "# Read the text in the file (it is stored as a long string), and convert it to lowercase in the process\n",
    "with open(\"Jack.txt\") as file:\n",
    "    data = file.read().lower()\n",
    "\n",
    "# Change it so only words and spaces between them remain\n",
    "data = data.replace('\\n', ' ')\n",
    "#data = data.replace('\\'s', '')\n",
    "regex = re.compile('[^a-z ]')\n",
    "data = regex.sub('', data)\n",
    "\n",
    "# Define alphabet\n",
    "alphabet = \"abcdefghijklmnopqrstuvwxyz \"\n",
    "\n",
    "words_freq = {}\n",
    "\n",
    "# Loop through all characters in the file\n",
    "word = ''\n",
    "for i in range(len(data)):\n",
    "    c = data[i]\n",
    "    if c == ' ':\n",
    "        if word in words_freq.keys():\n",
    "            words_freq[word] += 1\n",
    "        else:\n",
    "            words_freq[word] = 1\n",
    "        word = ''\n",
    "    else:\n",
    "        word += str(data[i])\n",
    "\n",
    "total = sum(words_freq.values())\n",
    "\n",
    "# Normalize to probabilities\n",
    "for word in words_freq.keys():\n",
    "    words_freq[word] /= total\n",
    "\n",
    "# Test if it adds up to 1\n",
    "# count = 0\n",
    "# for word in words_freq.keys():\n",
    "#         count += words_freq[word]\n",
    "# print(count)\n",
    "\n",
    "# Compute entropy\n",
    "entropy = 0\n",
    "for word in words_freq.keys():\n",
    "    entropy -= words_freq[word] * math.log2(words_freq[word])\n",
    "print(entropy)"
   ]
  },
  {
   "cell_type": "markdown",
   "id": "28ef26e5",
   "metadata": {},
   "source": [
    "# Problem 3d"
   ]
  },
  {
   "cell_type": "code",
   "execution_count": null,
   "id": "a192acf3",
   "metadata": {},
   "outputs": [],
   "source": []
  }
 ],
 "metadata": {
  "kernelspec": {
   "display_name": "Python 3 (ipykernel)",
   "language": "python",
   "name": "python3"
  },
  "language_info": {
   "codemirror_mode": {
    "name": "ipython",
    "version": 3
   },
   "file_extension": ".py",
   "mimetype": "text/x-python",
   "name": "python",
   "nbconvert_exporter": "python",
   "pygments_lexer": "ipython3",
   "version": "3.9.0"
  }
 },
 "nbformat": 4,
 "nbformat_minor": 5
}
