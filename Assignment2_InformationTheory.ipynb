{
 "cells": [
  {
   "cell_type": "markdown",
   "id": "a49838e5",
   "metadata": {},
   "source": [
    "# Problem 3b"
   ]
  },
  {
   "cell_type": "code",
   "execution_count": 72,
   "id": "352c8fb2",
   "metadata": {},
   "outputs": [
    {
     "name": "stdout",
     "output_type": "stream",
     "text": [
      "8.345495573754956\n"
     ]
    }
   ],
   "source": [
    "import math\n",
    "import string\n",
    "import re\n",
    "\n",
    "# Read the text in the file (it is stored as a long string), and convert it to lowercase in the process\n",
    "with open(\"Jack.txt\") as file:\n",
    "    data = file.read().lower()\n",
    "    # Change it so only words and spaces between them remain\n",
    "    data = data.replace('\\n', ' ')\n",
    "    #data = data.replace('\\'s', '')\n",
    "    regex = re.compile('[^a-z ]')\n",
    "    data = regex.sub('', data)\n",
    "\n",
    "# Define alphabet\n",
    "alphabet = \"abcdefghijklmnopqrstuvwxyz \"\n",
    "\n",
    "words_freq = {}\n",
    "\n",
    "# Loop through all characters in the file\n",
    "word = ''\n",
    "for i in range(len(data)):\n",
    "    c = data[i]\n",
    "    if c == ' ':\n",
    "        if word in words_freq.keys():\n",
    "            words_freq[word] += 1\n",
    "        else:\n",
    "            words_freq[word] = 1\n",
    "        word = ''\n",
    "    else:\n",
    "        word += str(data[i])\n",
    "\n",
    "total = sum(words_freq.values())\n",
    "\n",
    "# Normalize to probabilities\n",
    "for word in words_freq.keys():\n",
    "    words_freq[word] /= total\n",
    "\n",
    "# Test if it adds up to 1\n",
    "# count = 0\n",
    "# for word in words_freq.keys():\n",
    "#         count += words_freq[word]\n",
    "# print(count)\n",
    "\n",
    "# Compute entropy\n",
    "entropy = 0\n",
    "for word in words_freq.keys():\n",
    "    entropy -= words_freq[word] * math.log2(words_freq[word])\n",
    "print(entropy)"
   ]
  },
  {
   "cell_type": "markdown",
   "id": "5a22d4d3",
   "metadata": {},
   "source": [
    "# Problem 3d"
   ]
  },
  {
   "cell_type": "code",
   "execution_count": 81,
   "id": "24e938e4",
   "metadata": {},
   "outputs": [
    {
     "name": "stdout",
     "output_type": "stream",
     "text": [
      "4.0973322715463265\n",
      "cross entropy: 8.194789334167162\n"
     ]
    }
   ],
   "source": [
    "import math\n",
    "import string\n",
    "import re\n",
    "\n",
    "# Read the text in the file (it is stored as a long string), and convert it to lowercase in the process\n",
    "with open(\"Jack.txt\") as file:\n",
    "    data = file.read().lower()\n",
    "    regex = re.compile('[^a-z ]')\n",
    "    data = regex.sub('', data)\n",
    "\n",
    "# Get frequency distribution of one letter\n",
    "alphabet = \"abcdefghijklmnopqrstuvwxyz \"\n",
    "freq = {c: data.count(c) for c in alphabet}\n",
    "total = sum(freq.values())\n",
    "for letter in alphabet:\n",
    "    freq[letter] = freq[letter] / total\n",
    "\n",
    "# Entropy of X\n",
    "entropyX = 0\n",
    "for c in alphabet:\n",
    "    entropyX -= freq[c]*math.log2(freq[c])\n",
    "print(entropyX)\n",
    "\n",
    "# Create frequency distribution of pair of two letters\n",
    "combi_freq = {c: {letter: 0 for letter in alphabet} for c in alphabet}\n",
    "for i in range(len(data) - 1):\n",
    "    combi_freq[data[i]][data[i+1]] += 1\n",
    "\n",
    "totals = {c: sum(combi_freq[c].values()) for c in alphabet}\n",
    "big_totals = sum(totals.values())\n",
    "\n",
    "for letter in alphabet:\n",
    "    for sec_letter in alphabet:\n",
    "        combi_freq[letter][sec_letter] /= big_totals\n",
    "\n",
    "# # Test if it adds up to 1\n",
    "# count = 0\n",
    "# for letter in alphabet:\n",
    "#     for sec_letter in alphabet:\n",
    "#         count += combi_freq[letter][sec_letter]\n",
    "        \n",
    "# print(count)\n",
    "\n",
    "# Get cross entropy\n",
    "cross_entropy = 0\n",
    "for letter in alphabet:\n",
    "    for sec_letter in alphabet:\n",
    "        if combi_freq[letter][sec_letter] > 0:\n",
    "            cross_entropy -= combi_freq[letter][sec_letter] * math.log2(freq[letter]**2)\n",
    "\n",
    "print(\"cross entropy:\", cross_entropy)"
   ]
  },
  {
   "cell_type": "code",
   "execution_count": null,
   "id": "a9b6dded",
   "metadata": {},
   "outputs": [],
   "source": []
  }
 ],
 "metadata": {
  "kernelspec": {
   "display_name": "Python 3 (ipykernel)",
   "language": "python",
   "name": "python3"
  },
  "language_info": {
   "codemirror_mode": {
    "name": "ipython",
    "version": 3
   },
   "file_extension": ".py",
   "mimetype": "text/x-python",
   "name": "python",
   "nbconvert_exporter": "python",
   "pygments_lexer": "ipython3",
   "version": "3.9.0"
  }
 },
 "nbformat": 4,
 "nbformat_minor": 5
}
