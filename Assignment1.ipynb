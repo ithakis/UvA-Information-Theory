{
 "cells": [
  {
   "cell_type": "code",
   "execution_count": 97,
   "outputs": [],
   "source": [
    "import math\n",
    "import string\n",
    "import numpy as np\n",
    "import itertools\n",
    "\n",
    "import pandas as pd\n",
    "from matplotlib import pyplot as plt"
   ],
   "metadata": {
    "collapsed": false,
    "pycharm": {
     "name": "#%%\n"
    }
   }
  },
  {
   "cell_type": "code",
   "execution_count": 98,
   "outputs": [
    {
     "data": {
      "text/plain": "'abcdefghijklmnopqrstuvwxyz'"
     },
     "execution_count": 98,
     "metadata": {},
     "output_type": "execute_result"
    }
   ],
   "source": [
    "# Dutch version: https://www.dbnl.org/tekst/carr021avon02_01/carr021avon02_01.pdf\n",
    "# \"a,b,c,d,e,f,g,h,i,j,k,l,m,n,o,p,q,r,s,t,u,v,w,x,y,z\"\n",
    "COMMON_LETTERS = \"abcdefghijklmnopqrstuvwxyz\"\n",
    "COMMON_LETTERS"
   ],
   "metadata": {
    "collapsed": false,
    "pycharm": {
     "name": "#%%\n"
    }
   }
  },
  {
   "cell_type": "code",
   "execution_count": 99,
   "metadata": {
    "collapsed": true
   },
   "outputs": [
    {
     "ename": "FileNotFoundError",
     "evalue": "[Errno 2] No such file or directory: 'Jack.txt'",
     "output_type": "error",
     "traceback": [
      "\u001B[0;31m---------------------------------------------------------------------------\u001B[0m",
      "\u001B[0;31mFileNotFoundError\u001B[0m                         Traceback (most recent call last)",
      "\u001B[0;32m/var/folders/57/8q11hb450rz9z_rwvfbzpkmm0000gn/T/ipykernel_17461/304350655.py\u001B[0m in \u001B[0;36m<module>\u001B[0;34m\u001B[0m\n\u001B[1;32m      2\u001B[0m \u001B[0;34m\u001B[0m\u001B[0m\n\u001B[1;32m      3\u001B[0m \u001B[0;31m# open the input file, which was added as input.txt in the menu on the left.\u001B[0m\u001B[0;34m\u001B[0m\u001B[0;34m\u001B[0m\u001B[0m\n\u001B[0;32m----> 4\u001B[0;31m \u001B[0mf\u001B[0m \u001B[0;34m=\u001B[0m \u001B[0mopen\u001B[0m\u001B[0;34m(\u001B[0m\u001B[0;34m\"Jack.txt\"\u001B[0m\u001B[0;34m)\u001B[0m\u001B[0;34m\u001B[0m\u001B[0;34m\u001B[0m\u001B[0m\n\u001B[0m\u001B[1;32m      5\u001B[0m \u001B[0;34m\u001B[0m\u001B[0m\n\u001B[1;32m      6\u001B[0m \u001B[0;31m# read the text in the file (it is stored as a long string), and convert it to lowercase in the process\u001B[0m\u001B[0;34m\u001B[0m\u001B[0;34m\u001B[0m\u001B[0m\n",
      "\u001B[0;31mFileNotFoundError\u001B[0m: [Errno 2] No such file or directory: 'Jack.txt'"
     ]
    }
   ],
   "source": [
    "# Count (assigment for the quizzes)\n",
    "\n",
    "# open the input file, which was added as input.txt in the menu on the left.\n",
    "f = open(\"Jack.txt\")\n",
    "\n",
    "# read the text in the file (it is stored as a long string), and convert it to lowercase in the process\n",
    "data = f.read().lower()\n",
    "\n",
    "# your code here (scroll down for hints)\n",
    "dict = {}\n",
    "\n",
    "for letter in \"abcdefghijklmnopqrstuvwxyz\":\n",
    "    dict[letter] = 0\n",
    "\n",
    "# loop through all characters in the file:\n",
    "for c in data:\n",
    "    # your code here (scroll down for hints)\n",
    "    if c in dict.keys():\n",
    "        dict[c] += 1\n",
    "\n",
    "freq = max(dict.values())\n",
    "most_freq = [letter for letter, count in dict.items() if count == freq]\n",
    "print(most_freq, freq)\n",
    "print(dict)"
   ]
  },
  {
   "cell_type": "markdown",
   "source": [
    "# Part 4a"
   ],
   "metadata": {
    "collapsed": false
   }
  },
  {
   "cell_type": "code",
   "execution_count": 100,
   "outputs": [],
   "source": [
    "langs = (\"eng\", \"esp\", \"fin\", \"ger\", \"ita\", \"dutch\")\n",
    "\n",
    "dict = {}\n",
    "\n",
    "for lang in langs:\n",
    "\n",
    "    # Open input file\n",
    "    with open(f\"HW1/Alice_{lang}.txt\") as file:\n",
    "        # Read the text in the file, and convert it to lowercase in the process\n",
    "        data = file.read().lower()\n",
    "\n",
    "    # Create subdictionary for the languages\n",
    "    dict[f\"{lang}\"] = {}\n",
    "\n",
    "    # create keys\n",
    "    for letter in \"abcdefghijklmnopqrstuvwxyz\":\n",
    "        dict[f\"{lang}\"][letter] = 0\n",
    "\n",
    "    # Amount of letters\n",
    "    amount_letters = 0\n",
    "\n",
    "    # Loop through all characters in the file\n",
    "    for c in data:\n",
    "        # If c is a letter, one is added to its count\n",
    "        if c in dict[f\"{lang}\"].keys():\n",
    "            amount_letters += 1\n",
    "            dict[f\"{lang}\"][c] += 1\n",
    "\n",
    "    for letter in \"abcdefghijklmnopqrstuvwxyz\":\n",
    "        dict[f\"{lang}\"][letter] /= amount_letters"
   ],
   "metadata": {
    "collapsed": false,
    "pycharm": {
     "name": "#%%\n"
    }
   }
  },
  {
   "cell_type": "code",
   "execution_count": 101,
   "outputs": [
    {
     "data": {
      "text/plain": "<AxesSubplot:title={'center':'Frequency Distribution of Letters'}>"
     },
     "execution_count": 101,
     "metadata": {},
     "output_type": "execute_result"
    },
    {
     "data": {
      "text/plain": "<Figure size 1440x576 with 1 Axes>",
      "image/png": "[encoded data removed]"
     },
     "metadata": {
      "needs_background": "light"
     },
     "output_type": "display_data"
    }
   ],
   "source": [
    "lang_df = pd.DataFrame(dict)\n",
    "lang_df.plot(kind='bar', figsize=(20,8), grid=True, title=\"Frequency Distribution of Letters\")"
   ],
   "metadata": {
    "collapsed": false,
    "pycharm": {
     "name": "#%%\n"
    }
   }
  },
  {
   "cell_type": "code",
   "execution_count": 102,
   "outputs": [
    {
     "data": {
      "text/plain": "' Sanity check with the same language '"
     },
     "execution_count": 102,
     "metadata": {},
     "output_type": "execute_result"
    }
   ],
   "source": [
    "# Compute the total variance distance for each combination of two languages\n",
    "# tot_var_dist = {}\n",
    "tot_var_dist = []\n",
    "\n",
    "for lang_1, lang_2 in itertools.combinations(langs, 2):\n",
    "    # tot_var_dist[(lang_1, lang_2)] = 0\n",
    "    _no_letters = 0\n",
    "    for letter in \"abcdefghijklmnopqrstuvwxyz\":\n",
    "        _no_letters += np.abs(dict[lang_1][letter] - dict[lang_2][letter])\n",
    "    tot_var_dist.append([lang_1, lang_2, _no_letters * .5])\n",
    "\n",
    "\"\"\" Sanity check with the same language \"\"\"\n",
    "# _no_letters = 0\n",
    "# for letter in \"abcdefghijklmnopqrstuvwxyz\":\n",
    "#     _no_letters += np.abs(dict['eng'][letter] - dict['eng'][letter])\n",
    "# tot_var_dist.append(['eng', 'eng', _no_letters * .5])\n",
    "\n",
    "    # for letter in \"abcdefghijklmnopqrstuvwxyz\":\n",
    "    #     tot_var_dist[(lang_1, lang_2)] += np.abs(dict[lang_1][letter] - dict[lang_2][letter])\n",
    "    # tot_var_dist[(lang_1, lang_2)] *= 0.5"
   ],
   "metadata": {
    "collapsed": false,
    "pycharm": {
     "name": "#%%\n"
    }
   }
  },
  {
   "cell_type": "code",
   "execution_count": 103,
   "outputs": [
    {
     "data": {
      "text/plain": "               Variational_Distance\nlang_1 lang_2                      \nesp    ita                 0.106021\neng    ger                 0.143767\nger    dutch               0.152218\neng    ita                 0.155145\nesp    fin                 0.159583\neng    dutch               0.185384\nger    ita                 0.191902\neng    esp                 0.209377\nesp    dutch               0.221453\nita    dutch               0.223178\nfin    ita                 0.236528\nesp    ger                 0.237407\neng    fin                 0.261541\nfin    dutch               0.279914\n       ger                 0.301991",
      "text/html": "<div>\n<style scoped>\n    .dataframe tbody tr th:only-of-type {\n        vertical-align: middle;\n    }\n\n    .dataframe tbody tr th {\n        vertical-align: top;\n    }\n\n    .dataframe thead th {\n        text-align: right;\n    }\n</style>\n<table border=\"1\" class=\"dataframe\">\n  <thead>\n    <tr style=\"text-align: right;\">\n      <th></th>\n      <th></th>\n      <th>Variational_Distance</th>\n    </tr>\n    <tr>\n      <th>lang_1</th>\n      <th>lang_2</th>\n      <th></th>\n    </tr>\n  </thead>\n  <tbody>\n    <tr>\n      <th>esp</th>\n      <th>ita</th>\n      <td>0.106021</td>\n    </tr>\n    <tr>\n      <th>eng</th>\n      <th>ger</th>\n      <td>0.143767</td>\n    </tr>\n    <tr>\n      <th>ger</th>\n      <th>dutch</th>\n      <td>0.152218</td>\n    </tr>\n    <tr>\n      <th>eng</th>\n      <th>ita</th>\n      <td>0.155145</td>\n    </tr>\n    <tr>\n      <th>esp</th>\n      <th>fin</th>\n      <td>0.159583</td>\n    </tr>\n    <tr>\n      <th>eng</th>\n      <th>dutch</th>\n      <td>0.185384</td>\n    </tr>\n    <tr>\n      <th>ger</th>\n      <th>ita</th>\n      <td>0.191902</td>\n    </tr>\n    <tr>\n      <th>eng</th>\n      <th>esp</th>\n      <td>0.209377</td>\n    </tr>\n    <tr>\n      <th>esp</th>\n      <th>dutch</th>\n      <td>0.221453</td>\n    </tr>\n    <tr>\n      <th>ita</th>\n      <th>dutch</th>\n      <td>0.223178</td>\n    </tr>\n    <tr>\n      <th>fin</th>\n      <th>ita</th>\n      <td>0.236528</td>\n    </tr>\n    <tr>\n      <th>esp</th>\n      <th>ger</th>\n      <td>0.237407</td>\n    </tr>\n    <tr>\n      <th>eng</th>\n      <th>fin</th>\n      <td>0.261541</td>\n    </tr>\n    <tr>\n      <th rowspan=\"2\" valign=\"top\">fin</th>\n      <th>dutch</th>\n      <td>0.279914</td>\n    </tr>\n    <tr>\n      <th>ger</th>\n      <td>0.301991</td>\n    </tr>\n  </tbody>\n</table>\n</div>"
     },
     "execution_count": 103,
     "metadata": {},
     "output_type": "execute_result"
    }
   ],
   "source": [
    "# pd.DataFrame(tot_var_dist)\n",
    "lc_df = pd.DataFrame(tot_var_dist, columns=['lang_1', 'lang_2', \"Variational_Distance\"])\n",
    "lc_df.set_index(['lang_1', 'lang_2'], inplace=True)\n",
    "lc_df.sort_values(\"Variational_Distance\", ascending=True, inplace=True)\n",
    "lc_df"
   ],
   "metadata": {
    "collapsed": false,
    "pycharm": {
     "name": "#%%\n"
    }
   }
  },
  {
   "cell_type": "code",
   "execution_count": 104,
   "outputs": [
    {
     "data": {
      "text/plain": "<AxesSubplot:title={'center':'Variational Distance Between Different Languages'}, xlabel='lang_1,lang_2', ylabel='Variational Distance'>"
     },
     "execution_count": 104,
     "metadata": {},
     "output_type": "execute_result"
    },
    {
     "data": {
      "text/plain": "<Figure size 1440x288 with 1 Axes>",
      "image/png": "[encoded data removed]"
     },
     "metadata": {
      "needs_background": "light"
     },
     "output_type": "display_data"
    }
   ],
   "source": [
    "lc_df.plot(kind=\"bar\", figsize=(20,4), ylabel='Variational Distance', title='Variational Distance Between Different Languages')"
   ],
   "metadata": {
    "collapsed": false,
    "pycharm": {
     "name": "#%%\n"
    }
   }
  },
  {
   "cell_type": "code",
   "execution_count": 105,
   "outputs": [
    {
     "name": "stdout",
     "output_type": "stream",
     "text": [
      "The two languages that are furthest apart are: ('fin', 'ger') with a total variance distance of 0.3019905450860071\n",
      "The two languages that are closest are: ('esp', 'ita') with a total variance distance of 0.10602051098152043\n"
     ]
    }
   ],
   "source": [
    "# Find furthest apart\n",
    "# max_tot_var_dist = max(tot_var_dist.values())\n",
    "# max_tot_var_dist = max(tot_var_dist)\n",
    "\n",
    "# max_dist_langs = [langs for langs, var in tot_var_dist.items() if var == max_tot_var_dist]\n",
    "# print(\"The two languages that are furthest apart are:\", max_dist_langs[0],\n",
    "#       \"with a total variance distance of\", max_tot_var_dist)\n",
    "print(\"The two languages that are furthest apart are:\", lc_df[lc_df.Variational_Distance == lc_df.Variational_Distance.max()].index.values[0],\n",
    "      \"with a total variance distance of\", lc_df[lc_df.Variational_Distance == lc_df.Variational_Distance.max()].Variational_Distance.values[0])\n",
    "\n",
    "# Find closest together\n",
    "# min_tot_var_dist = min(tot_var_dist.values())\n",
    "# min_dist_langs = [langs for langs, var in tot_var_dist.items() if var == min_tot_var_dist]\n",
    "# print(\"The two languages that are closest are:\", min_dist_langs[0],\n",
    "#       \"with a total variance distance of\", min_tot_var_dist)\n",
    "print(\"The two languages that are closest are:\", lc_df[lc_df.Variational_Distance == lc_df.Variational_Distance.min()].index.values[0],\n",
    "      \"with a total variance distance of\", lc_df[lc_df.Variational_Distance == lc_df.Variational_Distance.min()].Variational_Distance.values[0])"
   ],
   "metadata": {
    "collapsed": false,
    "pycharm": {
     "name": "#%%\n"
    }
   }
  },
  {
   "cell_type": "markdown",
   "source": [
    "# Part 4b"
   ],
   "metadata": {
    "collapsed": false
   }
  },
  {
   "cell_type": "code",
   "execution_count": 119,
   "outputs": [
    {
     "name": "stdout",
     "output_type": "stream",
     "text": [
      "\\begin{tabular}{lr}\n",
      "\\toprule\n",
      "{} &  Collision\\_P \\\\\n",
      "\\midrule\n",
      "eng   &     0.065547 \\\\\n",
      "esp   &     0.069942 \\\\\n",
      "ita   &     0.071288 \\\\\n",
      "ger   &     0.072491 \\\\\n",
      "fin   &     0.076749 \\\\\n",
      "dutch &     0.078209 \\\\\n",
      "\\bottomrule\n",
      "\\end{tabular}\n",
      "\n"
     ]
    }
   ],
   "source": [
    "col_prob = {}\n",
    "#tot_prob = {}\n",
    "\n",
    "for lang in langs:\n",
    "    col_prob[lang] = 0\n",
    "    #tot_prob[lang] = 0\n",
    "\n",
    "    for letter in \"abcdefghijklmnopqrstuvwxyz\":\n",
    "        #tot_prob[lang] += dict[f\"{lang}\"][letter]\n",
    "        col_prob[lang] += dict[f\"{lang}\"][letter] ** 2\n",
    "\n",
    "col_prob_df = pd.DataFrame(col_prob.values(), columns=['Collision_P'], index=col_prob.keys())\n",
    "col_prob_df.sort_values('Collision_P', inplace=True)\n",
    "print(col_prob_df.to_latex(index=True))\n",
    "# col_prob"
   ],
   "metadata": {
    "collapsed": false,
    "pycharm": {
     "name": "#%%\n"
    }
   }
  },
  {
   "cell_type": "markdown",
   "source": [
    "# Part 4d - Open cipher"
   ],
   "metadata": {
    "collapsed": false
   }
  },
  {
   "cell_type": "code",
   "execution_count": 107,
   "outputs": [
    {
     "name": "stdout",
     "output_type": "stream",
     "text": [
      "The total variance distance is minimized with: ['esp'] with a total variance distance of 0.03982758841882112\n"
     ]
    }
   ],
   "source": [
    "file = open(\"HW1/permuted_cipher.txt\")\n",
    "\n",
    "# Read the text in the file, and convert it to lowercase in the process\n",
    "data = file.read().lower()\n",
    "\n",
    "# Create dictionary\n",
    "cipher_dict = {}\n",
    "\n",
    "# create keys\n",
    "for letter in \"abcdefghijklmnopqrstuvwxyz\":\n",
    "    cipher_dict[letter] = 0\n",
    "\n",
    "# Amount of letters\n",
    "amount_letters = 0\n",
    "\n",
    "# Loop through all characters in the file\n",
    "for c in data:\n",
    "    # If c is a letter, one is added to its count\n",
    "    if c in dict[f\"{lang}\"].keys():\n",
    "        amount_letters += 1\n",
    "        cipher_dict[c] += 1\n",
    "\n",
    "for letter in \"abcdefghijklmnopqrstuvwxyz\":\n",
    "    cipher_dict[letter] /= amount_letters\n",
    "\n",
    "# Compute the total variance distance for each combination of two languages\n",
    "tot_var_dist_cipher = {}\n",
    "\n",
    "for lang in langs:\n",
    "    tot_var_dist_cipher[lang] = 0\n",
    "\n",
    "    for letter in \"abcdefghijklmnopqrstuvwxyz\":\n",
    "        tot_var_dist_cipher[lang] += np.abs(cipher_dict[letter] - dict[lang][letter])\n",
    "\n",
    "    tot_var_dist_cipher[lang] *= 0.5\n",
    "\n",
    "# Find furthest apart\n",
    "min_tot_var_dist_cipher = min(tot_var_dist_cipher.values())\n",
    "min_dist_langs_cipher = [langs for langs, var in tot_var_dist_cipher.items() if var == min_tot_var_dist_cipher]\n",
    "print(\"The total variance distance is minimized with:\", min_dist_langs_cipher,\n",
    "      \"with a total variance distance of\", min_tot_var_dist_cipher)"
   ],
   "metadata": {
    "collapsed": false,
    "pycharm": {
     "name": "#%%\n"
    }
   }
  },
  {
   "cell_type": "code",
   "execution_count": 129,
   "outputs": [
    {
     "name": "stdout",
     "output_type": "stream",
     "text": [
      "\\begin{tabular}{lr}\n",
      "\\toprule\n",
      "{} &         1 \\\\\n",
      "0     &           \\\\\n",
      "\\midrule\n",
      "esp   &  0.039828 \\\\\n",
      "ita   &  0.098583 \\\\\n",
      "fin   &  0.177158 \\\\\n",
      "eng   &  0.211703 \\\\\n",
      "dutch &  0.217179 \\\\\n",
      "ger   &  0.243311 \\\\\n",
      "\\bottomrule\n",
      "\\end{tabular}\n",
      "\n"
     ]
    }
   ],
   "source": [
    "print(pd.DataFrame.from_dict(tot_var_dist_cipher.items()).set_index(0).sort_values(1).to_latex()) # , columns=['Lang', 'Var_Distance']d"
   ],
   "metadata": {
    "collapsed": false,
    "pycharm": {
     "name": "#%%\n"
    }
   }
  },
  {
   "cell_type": "markdown",
   "source": [
    "# Part 4e - Collision probability"
   ],
   "metadata": {
    "collapsed": false
   }
  },
  {
   "cell_type": "code",
   "execution_count": 130,
   "outputs": [
    {
     "name": "stdout",
     "output_type": "stream",
     "text": [
      "0.07008295280317044\n",
      "['esp']\n"
     ]
    }
   ],
   "source": [
    "col_prob_cipher = 0\n",
    "\n",
    "for letter in \"abcdefghijklmnopqrstuvwxyz\":\n",
    "    col_prob_cipher += cipher_dict[letter] ** 2\n",
    "\n",
    "print(col_prob_cipher)\n",
    "\n",
    "diff = {}\n",
    "for lang in langs:\n",
    "    diff[lang] = np.abs(col_prob[lang] - col_prob_cipher)\n",
    "\n",
    "diff_closest_lang_col_prob = min(diff.values())\n",
    "closest_lang_col_prob = [langs for langs, var in diff.items() if var == diff_closest_lang_col_prob]\n",
    "print(closest_lang_col_prob)"
   ],
   "metadata": {
    "collapsed": false,
    "pycharm": {
     "name": "#%%\n"
    }
   }
  },
  {
   "cell_type": "code",
   "execution_count": 137,
   "outputs": [
    {
     "name": "stdout",
     "output_type": "stream",
     "text": [
      "\\begin{tabular}{lr}\n",
      "\\toprule\n",
      "{} &         0 \\\\\n",
      "\\midrule\n",
      "esp   &  0.000141 \\\\\n",
      "ita   &  0.001205 \\\\\n",
      "ger   &  0.002408 \\\\\n",
      "eng   &  0.004536 \\\\\n",
      "fin   &  0.006666 \\\\\n",
      "dutch &  0.008126 \\\\\n",
      "\\bottomrule\n",
      "\\end{tabular}\n",
      "\n"
     ]
    }
   ],
   "source": [
    "diff_df = pd.DataFrame(diff.values(), index=diff.keys()).sort_values(0)\n",
    "print(diff_df.to_latex())"
   ],
   "metadata": {
    "collapsed": false,
    "pycharm": {
     "name": "#%%\n"
    }
   }
  },
  {
   "cell_type": "code",
   "execution_count": null,
   "outputs": [],
   "source": [],
   "metadata": {
    "collapsed": false,
    "pycharm": {
     "name": "#%%\n"
    }
   }
  }
 ],
 "metadata": {
  "kernelspec": {
   "display_name": "Python 3",
   "language": "python",
   "name": "python3"
  },
  "language_info": {
   "codemirror_mode": {
    "name": "ipython",
    "version": 2
   },
   "file_extension": ".py",
   "mimetype": "text/x-python",
   "name": "python",
   "nbconvert_exporter": "python",
   "pygments_lexer": "ipython2",
   "version": "2.7.6"
  }
 },
 "nbformat": 4,
 "nbformat_minor": 0
}