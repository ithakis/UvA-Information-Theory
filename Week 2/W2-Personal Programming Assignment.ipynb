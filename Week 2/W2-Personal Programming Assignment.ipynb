{
 "cells": [
  {
   "cell_type": "code",
   "execution_count": 2,
   "metadata": {
    "collapsed": true
   },
   "outputs": [
    {
     "name": "stdout",
     "output_type": "stream",
     "text": [
      "a 1787 0.0666\n",
      "b 306 0.0114\n",
      "c 518 0.0193\n",
      "d 1047 0.0390\n",
      "e 2847 0.1061\n",
      "f 500 0.0186\n",
      "g 513 0.0191\n",
      "h 1550 0.0578\n",
      "i 1397 0.0521\n",
      "j 92 0.0034\n",
      "k 217 0.0081\n",
      "l 797 0.0297\n",
      "m 500 0.0186\n",
      "n 1451 0.0541\n",
      "o 1592 0.0594\n",
      "p 370 0.0138\n",
      "q 35 0.0013\n",
      "r 1204 0.0449\n",
      "s 1345 0.0501\n",
      "t 1948 0.0726\n",
      "u 650 0.0242\n",
      "v 221 0.0082\n",
      "w 506 0.0189\n",
      "x 25 0.0009\n",
      "y 399 0.0149\n",
      "z 7 0.0003\n",
      "  4998 0.1863\n"
     ]
    }
   ],
   "source": [
    "########### YOU DO NOT HAVE TO EDIT THIS PART #########\n",
    "import numpy as np\n",
    "from collections import Counter\n",
    "import math\n",
    "import string\n",
    "import re\n",
    "\n",
    "## parse input file, convert to lowercase, remove punctuation\n",
    "f = open(\"input.txt\")\n",
    "data = f.read().lower()\n",
    "regex = re.compile('[^a-z ]')\n",
    "data = regex.sub('', data)\n",
    "\n",
    "## create a dictionary containing the frequencies for all characters (incl. space)\n",
    "alphabet = \"abcdefghijklmnopqrstuvwxyz \"\n",
    "frequencies = {c:data.count(c) for c in alphabet}\n",
    "total = sum(frequencies.values())\n",
    "\n",
    "\n",
    "########### EDIT BELOW THIS LINE #########\n",
    "\n",
    "for c in alphabet:\n",
    "  print(c, frequencies[c], f'{frequencies[c]/total:.4f}')\n",
    "\n",
    "_freq_dist = [frequencies[c]/total for c in alphabet]"
   ]
  },
  {
   "cell_type": "markdown",
   "source": [
    "#### Total Entropy"
   ],
   "metadata": {
    "collapsed": false
   }
  },
  {
   "cell_type": "code",
   "execution_count": 77,
   "outputs": [
    {
     "name": "stdout",
     "output_type": "stream",
     "text": [
      "Total Entropy = 4.097394662706025\n"
     ]
    }
   ],
   "source": [
    "print(f'Total Entropy = {sum([x*math.log(1/x, 2) for x in _freq_dist])}')"
   ],
   "metadata": {
    "collapsed": false,
    "pycharm": {
     "name": "#%%\n"
    }
   }
  },
  {
   "cell_type": "code",
   "execution_count": 78,
   "outputs": [
    {
     "name": "stdout",
     "output_type": "stream",
     "text": [
      "[0.000e+00 1.700e+01 1.110e+02 8.000e+01 0.000e+00 1.900e+01 3.900e+01\n",
      " 0.000e+00 6.000e+01 0.000e+00 2.700e+01 1.120e+02 2.500e+01 4.300e+02\n",
      " 0.000e+00 3.500e+01 0.000e+00 1.440e+02 2.200e+02 2.410e+02 1.300e+01\n",
      " 4.700e+01 1.700e+01 0.000e+00 4.200e+01 1.000e+00 1.070e+02 2.900e+01\n",
      " 1.000e+00 0.000e+00 0.000e+00 1.370e+02 0.000e+00 0.000e+00 0.000e+00\n",
      " 6.000e+00 1.000e+00 0.000e+00 2.700e+01 0.000e+00 0.000e+00 1.700e+01\n",
      " 0.000e+00 0.000e+00 1.800e+01 3.000e+00 1.000e+00 4.500e+01 0.000e+00\n",
      " 0.000e+00 0.000e+00 1.800e+01 0.000e+00 3.000e+00 4.000e+01 0.000e+00\n",
      " 9.000e+00 0.000e+00 7.100e+01 0.000e+00 0.000e+00 7.500e+01 1.100e+01\n",
      " 0.000e+00 9.000e+01 1.800e+01 0.000e+00 0.000e+00 1.310e+02 0.000e+00\n",
      " 2.000e+00 1.900e+01 0.000e+00 2.800e+01 2.000e+01 0.000e+00 0.000e+00\n",
      " 0.000e+00 0.000e+00 0.000e+00 4.000e+00 2.000e+01 1.000e+00 1.000e+00\n",
      " 1.200e+01 1.210e+02 2.000e+00 2.000e+00 1.000e+00 7.400e+01 0.000e+00\n",
      " 0.000e+00 8.000e+00 4.000e+00 2.000e+00 3.400e+01 0.000e+00 0.000e+00\n",
      " 1.500e+01 7.000e+00 0.000e+00 1.000e+01 1.000e+00 1.000e+00 0.000e+00\n",
      " 5.000e+00 0.000e+00 7.260e+02 2.030e+02 2.000e+00 5.100e+01 3.360e+02\n",
      " 5.700e+01 2.900e+01 2.200e+01 0.000e+00 3.500e+01 0.000e+00 4.000e+00\n",
      " 1.060e+02 3.900e+01 2.000e+02 5.000e+00 2.800e+01 9.000e+00 3.800e+02\n",
      " 1.250e+02 6.900e+01 1.000e+00 5.400e+01 1.600e+01 2.400e+01 3.300e+01\n",
      " 0.000e+00 1.018e+03 4.600e+01 0.000e+00 0.000e+00 0.000e+00 6.300e+01\n",
      " 2.000e+01 0.000e+00 0.000e+00 4.600e+01 0.000e+00 0.000e+00 8.000e+00\n",
      " 0.000e+00 0.000e+00 1.070e+02 0.000e+00 0.000e+00 2.300e+01 0.000e+00\n",
      " 1.800e+01 2.200e+01 0.000e+00 0.000e+00 0.000e+00 0.000e+00 0.000e+00\n",
      " 1.470e+02 3.400e+01 0.000e+00 0.000e+00 0.000e+00 4.200e+01 0.000e+00\n",
      " 6.000e+00 5.700e+01 7.300e+01 0.000e+00 0.000e+00 5.000e+00 1.000e+00\n",
      " 3.000e+00 2.900e+01 3.000e+00 0.000e+00 4.200e+01 1.600e+01 1.000e+00\n",
      " 1.000e+01 0.000e+00 0.000e+00 0.000e+00 0.000e+00 0.000e+00 1.910e+02\n",
      " 1.840e+02 3.000e+00 0.000e+00 0.000e+00 7.970e+02 1.000e+00 0.000e+00\n",
      " 0.000e+00 2.840e+02 0.000e+00 0.000e+00 0.000e+00 2.000e+00 1.000e+00\n",
      " 1.080e+02 0.000e+00 1.000e+00 1.200e+01 4.000e+00 3.900e+01 1.500e+01\n",
      " 0.000e+00 0.000e+00 0.000e+00 1.000e+00 0.000e+00 9.800e+01 6.400e+01\n",
      " 4.000e+00 5.400e+01 5.100e+01 4.600e+01 5.200e+01 3.100e+01 0.000e+00\n",
      " 0.000e+00 0.000e+00 8.000e+00 5.700e+01 1.220e+02 3.890e+02 5.100e+01\n",
      " 3.000e+00 0.000e+00 5.800e+01 1.990e+02 1.510e+02 0.000e+00 2.800e+01\n",
      " 0.000e+00 0.000e+00 0.000e+00 6.000e+00 2.300e+01 6.700e+01 0.000e+00\n",
      " 0.000e+00 0.000e+00 1.000e+00 0.000e+00 0.000e+00 0.000e+00 0.000e+00\n",
      " 0.000e+00 0.000e+00 0.000e+00 0.000e+00 0.000e+00 1.500e+01 0.000e+00\n",
      " 0.000e+00 0.000e+00 0.000e+00 0.000e+00 9.000e+00 0.000e+00 0.000e+00\n",
      " 0.000e+00 0.000e+00 0.000e+00 0.000e+00 1.000e+00 0.000e+00 0.000e+00\n",
      " 0.000e+00 5.000e+01 0.000e+00 0.000e+00 0.000e+00 2.600e+01 1.000e+00\n",
      " 0.000e+00 4.000e+00 0.000e+00 1.100e+01 1.000e+00 0.000e+00 0.000e+00\n",
      " 0.000e+00 8.000e+00 0.000e+00 0.000e+00 0.000e+00 0.000e+00 0.000e+00\n",
      " 0.000e+00 0.000e+00 1.150e+02 5.600e+01 0.000e+00 0.000e+00 6.900e+01\n",
      " 1.230e+02 3.200e+01 1.000e+00 1.000e+00 7.500e+01 0.000e+00 2.900e+01\n",
      " 1.070e+02 0.000e+00 0.000e+00 4.600e+01 2.000e+00 0.000e+00 0.000e+00\n",
      " 1.000e+01 1.600e+01 1.400e+01 6.000e+00 5.000e+00 0.000e+00 1.010e+02\n",
      " 0.000e+00 1.040e+02 6.300e+01 1.100e+01 0.000e+00 0.000e+00 1.180e+02\n",
      " 4.000e+00 0.000e+00 0.000e+00 3.300e+01 0.000e+00 0.000e+00 0.000e+00\n",
      " 1.400e+01 2.000e+00 7.600e+01 1.400e+01 0.000e+00 0.000e+00 3.300e+01\n",
      " 0.000e+00 2.100e+01 0.000e+00 0.000e+00 0.000e+00 1.600e+01 0.000e+00\n",
      " 9.500e+01 1.000e+01 0.000e+00 4.300e+01 2.830e+02 1.210e+02 8.000e+00\n",
      " 2.130e+02 1.000e+00 2.600e+01 4.000e+00 1.200e+01 1.400e+01 0.000e+00\n",
      " 8.000e+00 7.800e+01 1.000e+00 3.000e+00 1.000e+00 7.000e+01 1.900e+02\n",
      " 7.000e+00 4.000e+00 1.000e+00 1.000e+00 1.800e+01 0.000e+00 3.340e+02\n",
      " 1.300e+01 8.000e+00 1.000e+01 1.900e+01 0.000e+00 1.090e+02 7.000e+00\n",
      " 2.000e+00 1.500e+01 0.000e+00 2.000e+01 4.300e+01 9.900e+01 1.910e+02\n",
      " 7.400e+01 2.800e+01 0.000e+00 1.660e+02 5.500e+01 9.800e+01 2.700e+02\n",
      " 2.900e+01 7.700e+01 0.000e+00 1.000e+01 0.000e+00 2.490e+02 3.400e+01\n",
      " 2.000e+00 0.000e+00 0.000e+00 6.400e+01 0.000e+00 0.000e+00 0.000e+00\n",
      " 1.300e+01 0.000e+00 0.000e+00 3.100e+01 0.000e+00 0.000e+00 6.200e+01\n",
      " 4.000e+01 0.000e+00 4.600e+01 4.000e+00 5.000e+00 1.900e+01 0.000e+00\n",
      " 1.000e+00 0.000e+00 4.000e+00 0.000e+00 4.500e+01 0.000e+00 0.000e+00\n",
      " 0.000e+00 0.000e+00 0.000e+00 0.000e+00 0.000e+00 0.000e+00 0.000e+00\n",
      " 0.000e+00 0.000e+00 0.000e+00 0.000e+00 0.000e+00 0.000e+00 0.000e+00\n",
      " 0.000e+00 0.000e+00 0.000e+00 0.000e+00 3.500e+01 0.000e+00 0.000e+00\n",
      " 0.000e+00 0.000e+00 0.000e+00 0.000e+00 4.800e+01 2.000e+00 1.700e+01\n",
      " 2.100e+01 3.250e+02 6.000e+00 1.000e+01 3.000e+00 7.300e+01 3.000e+00\n",
      " 4.000e+00 1.200e+01 1.900e+01 2.600e+01 7.600e+01 1.500e+01 0.000e+00\n",
      " 1.500e+01 5.800e+01 4.600e+01 1.500e+01 1.100e+01 2.000e+00 0.000e+00\n",
      " 5.900e+01 0.000e+00 3.380e+02 3.900e+01 5.000e+00 2.500e+01 0.000e+00\n",
      " 2.040e+02 4.000e+00 3.000e+00 9.700e+01 5.900e+01 0.000e+00 5.000e+00\n",
      " 1.100e+01 8.000e+00 2.000e+00 9.000e+01 2.100e+01 0.000e+00 1.000e+00\n",
      " 5.800e+01 1.780e+02 4.800e+01 0.000e+00 3.000e+00 0.000e+00 2.000e+00\n",
      " 0.000e+00 4.820e+02 8.800e+01 0.000e+00 1.600e+01 1.000e+00 1.480e+02\n",
      " 1.000e+00 0.000e+00 6.200e+02 1.050e+02 0.000e+00 0.000e+00 4.100e+01\n",
      " 2.000e+00 2.000e+00 2.400e+02 0.000e+00 0.000e+00 4.200e+01 2.900e+01\n",
      " 2.900e+01 2.300e+01 0.000e+00 8.000e+00 0.000e+00 1.600e+01 0.000e+00\n",
      " 5.370e+02 2.400e+01 6.000e+00 1.400e+01 1.600e+01 2.600e+01 5.000e+00\n",
      " 3.000e+01 0.000e+00 2.700e+01 0.000e+00 0.000e+00 7.600e+01 1.100e+01\n",
      " 7.600e+01 0.000e+00 3.600e+01 0.000e+00 1.120e+02 8.000e+01 7.700e+01\n",
      " 0.000e+00 0.000e+00 1.000e+00 0.000e+00 0.000e+00 0.000e+00 3.300e+01\n",
      " 1.400e+01 0.000e+00 0.000e+00 0.000e+00 1.530e+02 0.000e+00 0.000e+00\n",
      " 0.000e+00 3.500e+01 0.000e+00 0.000e+00 0.000e+00 0.000e+00 0.000e+00\n",
      " 1.700e+01 0.000e+00 0.000e+00 0.000e+00 0.000e+00 0.000e+00 0.000e+00\n",
      " 0.000e+00 0.000e+00 0.000e+00 2.000e+00 0.000e+00 0.000e+00 1.500e+02\n",
      " 0.000e+00 0.000e+00 0.000e+00 6.300e+01 0.000e+00 0.000e+00 8.400e+01\n",
      " 8.800e+01 0.000e+00 0.000e+00 2.000e+00 0.000e+00 1.900e+01 4.400e+01\n",
      " 0.000e+00 0.000e+00 0.000e+00 2.000e+00 0.000e+00 0.000e+00 0.000e+00\n",
      " 0.000e+00 0.000e+00 0.000e+00 0.000e+00 5.400e+01 4.000e+00 0.000e+00\n",
      " 6.000e+00 0.000e+00 2.000e+00 0.000e+00 0.000e+00 1.000e+00 2.000e+00\n",
      " 0.000e+00 0.000e+00 0.000e+00 0.000e+00 0.000e+00 0.000e+00 5.000e+00\n",
      " 0.000e+00 0.000e+00 0.000e+00 5.000e+00 0.000e+00 0.000e+00 0.000e+00\n",
      " 0.000e+00 0.000e+00 0.000e+00 0.000e+00 0.000e+00 2.000e+00 0.000e+00\n",
      " 0.000e+00 1.300e+01 0.000e+00 0.000e+00 0.000e+00 5.000e+00 0.000e+00\n",
      " 0.000e+00 2.000e+00 0.000e+00 1.000e+00 7.000e+01 0.000e+00 0.000e+00\n",
      " 0.000e+00 1.100e+01 0.000e+00 0.000e+00 0.000e+00 0.000e+00 0.000e+00\n",
      " 0.000e+00 0.000e+00 2.950e+02 0.000e+00 0.000e+00 0.000e+00 0.000e+00\n",
      " 6.000e+00 0.000e+00 0.000e+00 0.000e+00 1.000e+00 0.000e+00 0.000e+00\n",
      " 0.000e+00 0.000e+00 0.000e+00 0.000e+00 0.000e+00 0.000e+00 0.000e+00\n",
      " 0.000e+00 0.000e+00 0.000e+00 0.000e+00 0.000e+00 0.000e+00 0.000e+00\n",
      " 0.000e+00 0.000e+00 5.560e+02 2.420e+02 1.610e+02 1.590e+02 9.600e+01\n",
      " 2.080e+02 1.490e+02 6.080e+02 2.240e+02 8.300e+01 1.800e+01 1.130e+02\n",
      " 1.540e+02 8.800e+01 2.210e+02 1.390e+02 2.000e+01 1.100e+02 3.530e+02\n",
      " 7.560e+02 5.300e+01 4.100e+01 3.740e+02 0.000e+00 7.200e+01 0.000e+00\n",
      " 0.000e+00]\n"
     ]
    },
    {
     "data": {
      "text/plain": "70.79154345649575"
     },
     "execution_count": 78,
     "metadata": {},
     "output_type": "execute_result"
    }
   ],
   "source": [
    "## parse input file, convert to lowercase, remove punctuation\n",
    "f = open(\"input.txt\")\n",
    "data = f.read().lower()\n",
    "regex = re.compile('[^a-z ]')\n",
    "data = regex.sub('', data)\n",
    "\n",
    "## create a dictionary containing the frequencies for all characters (incl. space)\n",
    "alphabet = \"abcdefghijklmnopqrstuvwxyz \"\n",
    "alphabet2 = []\n",
    "for l in alphabet:\n",
    "  for l2 in alphabet:\n",
    "    alphabet2.append(l+l2)\n",
    "\n",
    "frequencies = {l2:data.count(l2) for l2 in alphabet2}\n",
    "frequencies_list = np.array(list(frequencies.values()), dtype=float)\n",
    "print(frequencies_list)\n",
    "\n",
    "for inx in range(27):\n",
    "  frequencies_list[inx*27: inx*27+27] /= frequencies_list[inx*27: inx*27+27].sum()\n",
    "\n",
    "# frequencies_list[27:27+27]\n",
    "\n",
    "frequencies_list = frequencies_list[frequencies_list > 0]\n",
    "(frequencies_list * -np.log2(frequencies_list)).sum()\n",
    "# sum_letters = {}\n",
    "# for inx in range(26):\n",
    "#   _sum = 0\n",
    "#   for inx2 in range(26):\n",
    "#     _sum += list(frequencies.values())[inx * 26 -1 + inx2]\n",
    "#   sum_letters[alphabet[inx]] = _sum\n",
    "# print(sum_letters)\n",
    "# # frequencies/_sum\n",
    "# #\n",
    "# print(frequencies)\n",
    "# _frequencies = []\n",
    "# for key, value in frequencies.items():\n",
    "#   frequencies[key] /= sum_letters[key[0]]\n",
    "#   _frequencies.append(frequencies[key])\n",
    "#\n",
    "# print(_frequencies)\n",
    "# print([f * math.log2(1/f) for f in _frequencies])\n",
    "\n",
    "# for key, value in frequencies.items():\n",
    "#   frequencies[key] = frequencies[key] * math.log(float(frequencies[key]), 2)\n",
    "# print(frequencies)\n",
    "\n",
    "# print(f'Conditional Entropy = {sum(list(frequencies.values()) * math.log(1/list(frequencies.values()), 2))}')\n",
    "########### EDIT BELOW THIS LINE #########\n",
    "# frequencies = {c:data.count(cc) for c in alphabet}\n",
    "#\n",
    "# cond = []\n",
    "# for c in alphabet:\n",
    "#   temp = 0\n",
    "#   for c in alphabet:\n",
    "#\n",
    "# _freq_dist = [frequencies[c]/total for c in alphabet]\n",
    "# alphabet2\n"
   ],
   "metadata": {
    "collapsed": false,
    "pycharm": {
     "name": "#%%\n"
    }
   }
  },
  {
   "cell_type": "code",
   "execution_count": 6,
   "outputs": [
    {
     "name": "stdout",
     "output_type": "stream",
     "text": [
      "0.5\n"
     ]
    }
   ],
   "source": [
    "ps = np.array([[0.5, 0], [0.25, 0.25]])\n",
    "print('----- P(x,y) ------')\n",
    "\n",
    "print(ps[1,:].sum())"
   ],
   "metadata": {
    "collapsed": false,
    "pycharm": {
     "name": "#%%\n"
    }
   }
  },
  {
   "cell_type": "code",
   "execution_count": null,
   "outputs": [],
   "source": [
    "print(f'P(y=0|x=0) = {1}')\n",
    "print(f'P(y=1|x=0) = {0}')\n",
    "print(f'P(y=0|x=1) = {0.25 / .5}')\n",
    "print(f'P(y=1|x=1) = {0.25 / .5}')"
   ],
   "metadata": {
    "collapsed": false,
    "pycharm": {
     "name": "#%%\n"
    }
   }
  },
  {
   "cell_type": "code",
   "execution_count": 29,
   "outputs": [
    {
     "name": "stdout",
     "output_type": "stream",
     "text": [
      "H(X) = 0.8112781244591328\n",
      "H(Y) = 1.0\n",
      "H(Y|X) = 0.5\n",
      "H(X|Y) = 0.6887218755408671\n",
      "H(Y,X) = H(Y) + H(Y|X) = 1.5\n",
      "H(X,Y) = H(X) + H(X|Y) = 1.5\n",
      "I(Y;X) = H(Y) - H(Y|X) = 0.5\n",
      "I(X;Y) = H(X) - H(X|Y) = 0.12255624891826578\n"
     ]
    }
   ],
   "source": [
    "\"\"\" Η(Χ) \"\"\"\n",
    "H_X = .75 * np.log2(1/.75) + .25 * np.log2(1/.25)\n",
    "print(f'H(X) = {H_X}' )\n",
    "\n",
    "\"\"\" Η(Y) \"\"\"\n",
    "H_Y = .5 * np.log2(1/.5) + .5 * np.log2(1/.5)\n",
    "print(f'H(Y) = {H_Y}' )\n",
    "\n",
    "\"\"\" Η(Y|X) \"\"\"\n",
    "H_Y_X = .5*np.log2(1/1) + 0.25*np.log2(1/.25)\n",
    "H_X_Y = .5*np.log2(3/2) + 0.25*np.log2(3) + .25*np.log2(1)\n",
    "print(f'H(Y|X) = {H_Y_X}' )\n",
    "print(f'H(X|Y) = {H_X_Y}')\n",
    "\n",
    "print(f'H(Y,X) = H(Y) + H(Y|X) = {H_Y + H_Y_X}')\n",
    "print(f'H(X,Y) = H(X) + H(X|Y) = {H_X + H_X_Y}')\n",
    "\n",
    "print(f'I(Y;X) = H(Y) - H(Y|X) = {H_Y - H_Y_X}')\n",
    "print(f'I(X;Y) = H(X) - H(X|Y) = {H_X - H_X_Y}')\n"
   ],
   "metadata": {
    "collapsed": false,
    "pycharm": {
     "name": "#%%\n"
    }
   }
  },
  {
   "cell_type": "code",
   "execution_count": 30,
   "outputs": [
    {
     "data": {
      "text/plain": "2.5"
     },
     "execution_count": 30,
     "metadata": {},
     "output_type": "execute_result"
    }
   ],
   "source": [
    "-( 1/4*np.log2(.5) + 1/4*np.log2(1/8) + 1/2*np.log2(1/8) )"
   ],
   "metadata": {
    "collapsed": false,
    "pycharm": {
     "name": "#%%\n"
    }
   }
  },
  {
   "cell_type": "code",
   "execution_count": 31,
   "outputs": [
    {
     "data": {
      "text/plain": "1.5"
     },
     "execution_count": 31,
     "metadata": {},
     "output_type": "execute_result"
    }
   ],
   "source": [
    "-( 1/4*np.log2(1/4) + 1/4*np.log2(1/4) + 1/2*np.log2(1/2) )"
   ],
   "metadata": {
    "collapsed": false,
    "pycharm": {
     "name": "#%%\n"
    }
   }
  },
  {
   "cell_type": "code",
   "execution_count": null,
   "outputs": [],
   "source": [
    "np.log"
   ],
   "metadata": {
    "collapsed": false,
    "pycharm": {
     "name": "#%%\n"
    }
   }
  }
 ],
 "metadata": {
  "kernelspec": {
   "display_name": "Python 3",
   "language": "python",
   "name": "python3"
  },
  "language_info": {
   "codemirror_mode": {
    "name": "ipython",
    "version": 2
   },
   "file_extension": ".py",
   "mimetype": "text/x-python",
   "name": "python",
   "nbconvert_exporter": "python",
   "pygments_lexer": "ipython2",
   "version": "2.7.6"
  }
 },
 "nbformat": 4,
 "nbformat_minor": 0
}